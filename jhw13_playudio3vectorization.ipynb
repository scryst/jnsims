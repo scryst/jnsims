{
 "cells": [
  {
   "cell_type": "markdown",
   "id": "0cec3b7f",
   "metadata": {},
   "source": [
    "# EPS 109 \"Computer Simulations in Earth and Planetary Science\"\n",
    "### Instructor: Burkhard Militzer\n",
    "### Combined lab and homework assignment on sound and audio files: Part 3"
   ]
  },
  {
   "cell_type": "markdown",
   "id": "5226007d",
   "metadata": {},
   "source": [
    "Execute the following cells and compare how it takes for the calculation to finish. Also compare  excecution time on your computer with that of a fellow student. "
   ]
  },
  {
   "cell_type": "code",
   "execution_count": 8,
   "id": "55cf1945",
   "metadata": {},
   "outputs": [],
   "source": [
    "import numpy as np\n",
    "import datetime"
   ]
  },
  {
   "cell_type": "code",
   "execution_count": 9,
   "id": "ba4ad6f0",
   "metadata": {},
   "outputs": [],
   "source": [
    "def function(x):\n",
    "    f = np.exp(-x**2)\n",
    "    f = np.sin(f+2.0)\n",
    "    return np.sqrt(f+10.0)"
   ]
  },
  {
   "cell_type": "code",
   "execution_count": 10,
   "id": "f2e4e44f",
   "metadata": {},
   "outputs": [
    {
     "name": "stdout",
     "output_type": "stream",
     "text": [
      "[0.06547185 0.00685148 0.08082504 ... 0.17917321 0.2563368  0.99093901]\n",
      "[3.18517712 3.18451982 3.18552401 ... 3.18940769 3.19433125 3.2701667 ]\n",
      "Execution time (hours:minutes:seconds) =  0:00:06.844031\n"
     ]
    }
   ],
   "source": [
    "n = 2000000\n",
    "x = np.random.random(n)\n",
    "print(x)\n",
    "f = np.zeros(n)\n",
    "\n",
    "start = datetime.datetime.now()\n",
    "for i in range(n):\n",
    "    f[i] = function(x[i]) #Setting an empty array of zeros of size n with the return function values of random x from 0 to 1.\n",
    "now = datetime.datetime.now()\n",
    "print(f)\n",
    "print ('Execution time (hours:minutes:seconds) = ',str(now-start)) #Computes time it takes"
   ]
  },
  {
   "cell_type": "code",
   "execution_count": 11,
   "id": "1dd670cc",
   "metadata": {},
   "outputs": [
    {
     "name": "stdout",
     "output_type": "stream",
     "text": [
      "[3.18517712 3.18451982 3.18552401 ... 3.18940769 3.19433125 3.2701667 ]\n",
      "Execution time (hours:minutes:seconds) =  0:00:00.041000\n"
     ]
    }
   ],
   "source": [
    "start = datetime.datetime.now()\n",
    "f2 = function(x) #Performs function on the entirety of the array at once rather than each individual element in the array\n",
    "now = datetime.datetime.now()\n",
    "print(f2)\n",
    "print ('Execution time (hours:minutes:seconds) = ',str(now-start))"
   ]
  },
  {
   "cell_type": "code",
   "execution_count": 12,
   "id": "218f1685",
   "metadata": {},
   "outputs": [],
   "source": [
    "#Q: Why do the execution times differ so much?\n",
    "#A: The first method iterates through each element of x and computes its corresponding function value individually. The second method computes all the function values of the array of x-values at once rather than dissecting the array into individual elements and reconstructing the array after individual function values have been calculated. As a result, the second method is much more time efficient since it eliminates this dissection and reconstruction step. "
   ]
  },
  {
   "cell_type": "code",
   "execution_count": null,
   "id": "649c130c",
   "metadata": {},
   "outputs": [],
   "source": []
  },
  {
   "cell_type": "code",
   "execution_count": null,
   "id": "99940f53",
   "metadata": {},
   "outputs": [],
   "source": []
  }
 ],
 "metadata": {
  "kernelspec": {
   "display_name": "Python 3 (ipykernel)",
   "language": "python",
   "name": "python3"
  },
  "language_info": {
   "codemirror_mode": {
    "name": "ipython",
    "version": 3
   },
   "file_extension": ".py",
   "mimetype": "text/x-python",
   "name": "python",
   "nbconvert_exporter": "python",
   "pygments_lexer": "ipython3",
   "version": "3.9.12"
  }
 },
 "nbformat": 4,
 "nbformat_minor": 5
}
