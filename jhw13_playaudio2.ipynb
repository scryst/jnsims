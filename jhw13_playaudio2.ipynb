{
 "cells": [
  {
   "cell_type": "markdown",
   "metadata": {},
   "source": [
    "# EPS 109 \"Computer Simulations in Earth and Planetary Science\"\n",
    "### Instructor: Burkhard Militzer\n",
    "### Combined lab and homework assignment on sound and audio files: Part 2, a hearing test and three notes"
   ]
  },
  {
   "cell_type": "markdown",
   "metadata": {},
   "source": [
    "Execute the following commands to play tune A with frequency 440 Hz"
   ]
  },
  {
   "cell_type": "code",
   "execution_count": 70,
   "metadata": {},
   "outputs": [],
   "source": [
    "import numpy as np\n",
    "import simpleaudio as sa\n",
    "\n",
    "frequency = 440    # Play a tune A with a frequeny of 440 Hz\n",
    "fs        = 44100  # 44100 samples per second\n",
    "seconds   = 2      # Duration of 2 seconds\n",
    "\n",
    "# Generate array with seconds * sample_rate steps\n",
    "t = np.linspace(0, seconds, seconds * fs, False)\n",
    "\n",
    "# Generate a sine wave\n",
    "note = np.sin(frequency * t * 2 * np.pi)\n",
    "\n",
    "# Ensure that highest value is in 16-bit range\n",
    "audio = note * (2**15 - 1) / np.max( np.abs(note) )\n",
    "# Convert to 16-bit data\n",
    "audio = audio.astype(np.int16)\n",
    "\n",
    "# Start playback\n",
    "play_obj = sa.play_buffer(audio, 1, 2, fs)\n",
    "\n",
    "# Wait for playback to finish before exiting\n",
    "play_obj.wait_done()"
   ]
  },
  {
   "cell_type": "markdown",
   "metadata": {},
   "source": [
    "Increase and decrease the frequency until you can no longer hear anything (Except for clicking noises at the very beginning and end). "
   ]
  },
  {
   "cell_type": "code",
   "execution_count": 73,
   "metadata": {},
   "outputs": [],
   "source": [
    "frequency = 15    # Play a tune A with a frequeny of 15 Hz\n",
    "fs        = 44100  # 44100 samples per second\n",
    "seconds   = 2      # Duration of 2 seconds\n",
    "\n",
    "# Generate array with seconds * sample_rate steps\n",
    "t = np.linspace(0, seconds, seconds * fs, False)\n",
    "\n",
    "# Generate a sine wave\n",
    "note = np.sin(frequency * t * 2 * np.pi)\n",
    "\n",
    "# Ensure that highest value is in 16-bit range\n",
    "audio = note * (2**15 - 1) / np.max( np.abs(note) )\n",
    "# Convert to 16-bit data\n",
    "audio = audio.astype(np.int16)\n",
    "\n",
    "# Start playback\n",
    "play_obj = sa.play_buffer(audio, 1, 2, fs)\n",
    "\n",
    "# Wait for playback to finish before exiting\n",
    "play_obj.wait_done()"
   ]
  },
  {
   "cell_type": "markdown",
   "metadata": {},
   "source": [
    "Modify the code above to consecutively play three notes of your choice from https://www.seventhstring.com/resources/notefrequencies.html Here is a example how you can calculate the frequencies rather extracting them from table. Specify the names of your notes."
   ]
  },
  {
   "cell_type": "code",
   "execution_count": 74,
   "metadata": {},
   "outputs": [
    {
     "name": "stdout",
     "output_type": "stream",
     "text": [
      "698.4564628660078\n",
      "932.3275230361799\n",
      "523.2511306011972\n"
     ]
    }
   ],
   "source": [
    "#Let's do chord progression F -> Bb -> C (all 5th row)\n",
    "A_freq   = 440\n",
    "fs        = 44100  # 44100 samples per second\n",
    "seconds   = 1      # Duration of 1 second\n",
    "\n",
    "Csh_freq = A_freq * 2 ** (4 / 12)\n",
    "E_freq   = A_freq * 2 ** (7 / 12)\n",
    "\n",
    "F_freq = A_freq * 2 ** (8 / 12)\n",
    "print(F_freq)\n",
    "Bb_freq = A_freq * 2 ** (13 / 12)\n",
    "print(Bb_freq)\n",
    "C_freq = A_freq * 2 ** (3 / 12)\n",
    "print(C_freq)\n",
    "\n",
    "# Generate array with seconds * sample_rate steps\n",
    "t = np.linspace(0, seconds, seconds * fs, False)\n",
    "\n",
    "# Generate a sine wave\n",
    "noteF5 = np.sin(F_freq * t * 2 * np.pi)\n",
    "noteBb5 = np.sin(Bb_freq * t * 2 * np.pi)\n",
    "noteC5 = np.sin(C_freq * t * 2 * np.pi)\n",
    "\n",
    "# Ensure that highest value is in 16-bit range\n",
    "audioF5 = noteF5 * (2**15 - 1) / np.max( np.abs(noteF5) )\n",
    "audioBb5 = noteBb5 * (2**15 - 1) / np.max( np.abs(noteBb5) )\n",
    "audioC5 = noteC5 * (2**15 - 1) / np.max( np.abs(noteC5) )\n",
    "# Convert to 16-bit data\n",
    "audioF5 = audioF5.astype(np.int16)\n",
    "audioBb5 = audioBb5.astype(np.int16)\n",
    "audioC5 = audioC5.astype(np.int16)\n",
    "\n",
    "#Note F (5th Row)\n",
    "F5 = sa.play_buffer(audioF5, 1, 2, fs)\n",
    "play_obj = F5\n",
    "play_obj.wait_done()\n",
    "\n",
    "#Note Bb (5th Row)\n",
    "Bb5 = sa.play_buffer(audioBb5, 1, 2, fs)\n",
    "play_obj = Bb5\n",
    "play_obj.wait_done()\n",
    "\n",
    "#Note C (5th Row)\n",
    "C5 = sa.play_buffer(audioC5, 1, 2, fs)\n",
    "play_obj = C5\n",
    "play_obj.wait_done()"
   ]
  },
  {
   "cell_type": "code",
   "execution_count": null,
   "metadata": {},
   "outputs": [],
   "source": []
  }
 ],
 "metadata": {
  "kernelspec": {
   "display_name": "Python 3 (ipykernel)",
   "language": "python",
   "name": "python3"
  },
  "language_info": {
   "codemirror_mode": {
    "name": "ipython",
    "version": 3
   },
   "file_extension": ".py",
   "mimetype": "text/x-python",
   "name": "python",
   "nbconvert_exporter": "python",
   "pygments_lexer": "ipython3",
   "version": "3.9.12"
  }
 },
 "nbformat": 4,
 "nbformat_minor": 4
}
